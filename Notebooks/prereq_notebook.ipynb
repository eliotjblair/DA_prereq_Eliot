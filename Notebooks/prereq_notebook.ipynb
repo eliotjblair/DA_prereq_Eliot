{
 "cells": [
  {
   "cell_type": "code",
   "execution_count": 1,
   "id": "83c5d7eb",
   "metadata": {},
   "outputs": [
    {
     "name": "stdout",
     "output_type": "stream",
     "text": [
      "Hello Class!\n"
     ]
    }
   ],
   "source": [
    "print(\"Hello Class!\")"
   ]
  },
  {
   "cell_type": "markdown",
   "id": "200d2055",
   "metadata": {},
   "source": [
    "Hello everyone! My name is Eliot. I’ve worked in the restaurant industry for over 20 years and have been an active real estate agent for the past 5 years.\n",
    "\n",
    "Coding has always interested me. I took a couple of C++ and HTML classes in college about 10–12 years ago, and that’s when I realized how much I love programming. Nothing beats the feeling of creating something from scratch and watching it run perfectly—it's incredibly rewarding.\n",
    "\n",
    "For a long time, I didn’t have the time or resources to pursue a career in coding. That changed when I learned about Code Louisville through my close friend Tiara Volpe. She works with a mentor here and helped connect me with the right people.\n",
    "\n",
    "Thank you so much for this opportunity. I’m beyond excited to start this next chapter in my life."
   ]
  }
 ],
 "metadata": {
  "kernelspec": {
   "display_name": "Python 3",
   "language": "python",
   "name": "python3"
  },
  "language_info": {
   "codemirror_mode": {
    "name": "ipython",
    "version": 3
   },
   "file_extension": ".py",
   "mimetype": "text/x-python",
   "name": "python",
   "nbconvert_exporter": "python",
   "pygments_lexer": "ipython3",
   "version": "3.12.10"
  }
 },
 "nbformat": 4,
 "nbformat_minor": 5
}
